{
 "cells": [
  {
   "cell_type": "code",
   "execution_count": 1,
   "id": "114b9a8c",
   "metadata": {},
   "outputs": [],
   "source": [
    "import numpy as np\n",
    "import pandas as pd\n",
    "import matplotlib.pyplot as plt\n",
    "import seaborn as sns\n",
    "\n",
    "from sklearn.model_selection import train_test_split\n",
    "from sklearn.tree import DecisionTreeClassifier\n",
    "from sklearn.metrics import accuracy_score\n",
    "\n",
    "import warnings\n",
    "warnings.filterwarnings(\"ignore\")"
   ]
  },
  {
   "cell_type": "code",
   "execution_count": 2,
   "id": "3a11c811",
   "metadata": {},
   "outputs": [],
   "source": [
    "Ecommerce=pd.read_csv(\"Ecommerce.csv\")"
   ]
  },
  {
   "cell_type": "code",
   "execution_count": 3,
   "id": "5caed336",
   "metadata": {
    "scrolled": true
   },
   "outputs": [
    {
     "data": {
      "text/html": [
       "<div>\n",
       "<style scoped>\n",
       "    .dataframe tbody tr th:only-of-type {\n",
       "        vertical-align: middle;\n",
       "    }\n",
       "\n",
       "    .dataframe tbody tr th {\n",
       "        vertical-align: top;\n",
       "    }\n",
       "\n",
       "    .dataframe thead th {\n",
       "        text-align: right;\n",
       "    }\n",
       "</style>\n",
       "<table border=\"1\" class=\"dataframe\">\n",
       "  <thead>\n",
       "    <tr style=\"text-align: right;\">\n",
       "      <th></th>\n",
       "      <th>Customer ID</th>\n",
       "      <th>Avg Session length</th>\n",
       "      <th>Time on App</th>\n",
       "      <th>Time on Website</th>\n",
       "      <th>Length of MemberShip</th>\n",
       "      <th>Yealy amount spent</th>\n",
       "    </tr>\n",
       "  </thead>\n",
       "  <tbody>\n",
       "    <tr>\n",
       "      <th>0</th>\n",
       "      <td>1</td>\n",
       "      <td>32.538350</td>\n",
       "      <td>12.028846</td>\n",
       "      <td>35.850540</td>\n",
       "      <td>3.648854</td>\n",
       "      <td>576.098273</td>\n",
       "    </tr>\n",
       "    <tr>\n",
       "      <th>1</th>\n",
       "      <td>2</td>\n",
       "      <td>34.206718</td>\n",
       "      <td>12.226851</td>\n",
       "      <td>37.246443</td>\n",
       "      <td>1.987536</td>\n",
       "      <td>460.784955</td>\n",
       "    </tr>\n",
       "    <tr>\n",
       "      <th>2</th>\n",
       "      <td>3</td>\n",
       "      <td>31.535240</td>\n",
       "      <td>11.814341</td>\n",
       "      <td>36.610697</td>\n",
       "      <td>3.351191</td>\n",
       "      <td>349.739791</td>\n",
       "    </tr>\n",
       "    <tr>\n",
       "      <th>3</th>\n",
       "      <td>4</td>\n",
       "      <td>32.199577</td>\n",
       "      <td>11.295163</td>\n",
       "      <td>37.425695</td>\n",
       "      <td>5.234337</td>\n",
       "      <td>547.709921</td>\n",
       "    </tr>\n",
       "    <tr>\n",
       "      <th>4</th>\n",
       "      <td>5</td>\n",
       "      <td>33.570137</td>\n",
       "      <td>13.500972</td>\n",
       "      <td>36.856165</td>\n",
       "      <td>3.938603</td>\n",
       "      <td>487.055641</td>\n",
       "    </tr>\n",
       "  </tbody>\n",
       "</table>\n",
       "</div>"
      ],
      "text/plain": [
       "   Customer ID  Avg Session length  Time on App  Time on Website  \\\n",
       "0            1           32.538350    12.028846        35.850540   \n",
       "1            2           34.206718    12.226851        37.246443   \n",
       "2            3           31.535240    11.814341        36.610697   \n",
       "3            4           32.199577    11.295163        37.425695   \n",
       "4            5           33.570137    13.500972        36.856165   \n",
       "\n",
       "   Length of MemberShip  Yealy amount spent  \n",
       "0              3.648854          576.098273  \n",
       "1              1.987536          460.784955  \n",
       "2              3.351191          349.739791  \n",
       "3              5.234337          547.709921  \n",
       "4              3.938603          487.055641  "
      ]
     },
     "execution_count": 3,
     "metadata": {},
     "output_type": "execute_result"
    }
   ],
   "source": [
    "Ecommerce.head()"
   ]
  },
  {
   "cell_type": "code",
   "execution_count": 4,
   "id": "cfe83fe3",
   "metadata": {},
   "outputs": [
    {
     "name": "stdout",
     "output_type": "stream",
     "text": [
      "<class 'pandas.core.frame.DataFrame'>\n",
      "RangeIndex: 623 entries, 0 to 622\n",
      "Data columns (total 6 columns):\n",
      " #   Column                Non-Null Count  Dtype  \n",
      "---  ------                --------------  -----  \n",
      " 0   Customer ID           623 non-null    int64  \n",
      " 1   Avg Session length    623 non-null    float64\n",
      " 2   Time on App           623 non-null    float64\n",
      " 3   Time on Website       623 non-null    float64\n",
      " 4   Length of MemberShip  623 non-null    float64\n",
      " 5   Yealy amount spent    623 non-null    float64\n",
      "dtypes: float64(5), int64(1)\n",
      "memory usage: 29.3 KB\n"
     ]
    }
   ],
   "source": [
    "Ecommerce.info()"
   ]
  },
  {
   "cell_type": "code",
   "execution_count": 5,
   "id": "d5df5b2a",
   "metadata": {},
   "outputs": [
    {
     "data": {
      "text/html": [
       "<div>\n",
       "<style scoped>\n",
       "    .dataframe tbody tr th:only-of-type {\n",
       "        vertical-align: middle;\n",
       "    }\n",
       "\n",
       "    .dataframe tbody tr th {\n",
       "        vertical-align: top;\n",
       "    }\n",
       "\n",
       "    .dataframe thead th {\n",
       "        text-align: right;\n",
       "    }\n",
       "</style>\n",
       "<table border=\"1\" class=\"dataframe\">\n",
       "  <thead>\n",
       "    <tr style=\"text-align: right;\">\n",
       "      <th></th>\n",
       "      <th>Customer ID</th>\n",
       "      <th>Avg Session length</th>\n",
       "      <th>Time on App</th>\n",
       "      <th>Time on Website</th>\n",
       "      <th>Length of MemberShip</th>\n",
       "      <th>Yealy amount spent</th>\n",
       "    </tr>\n",
       "  </thead>\n",
       "  <tbody>\n",
       "    <tr>\n",
       "      <th>count</th>\n",
       "      <td>623.000000</td>\n",
       "      <td>623.000000</td>\n",
       "      <td>623.000000</td>\n",
       "      <td>623.000000</td>\n",
       "      <td>623.000000</td>\n",
       "      <td>623.000000</td>\n",
       "    </tr>\n",
       "    <tr>\n",
       "      <th>mean</th>\n",
       "      <td>312.000000</td>\n",
       "      <td>33.039429</td>\n",
       "      <td>12.001459</td>\n",
       "      <td>37.079018</td>\n",
       "      <td>3.514850</td>\n",
       "      <td>499.600023</td>\n",
       "    </tr>\n",
       "    <tr>\n",
       "      <th>std</th>\n",
       "      <td>179.988889</td>\n",
       "      <td>0.949071</td>\n",
       "      <td>0.996609</td>\n",
       "      <td>0.991753</td>\n",
       "      <td>0.948063</td>\n",
       "      <td>80.032965</td>\n",
       "    </tr>\n",
       "    <tr>\n",
       "      <th>min</th>\n",
       "      <td>1.000000</td>\n",
       "      <td>29.972300</td>\n",
       "      <td>9.273248</td>\n",
       "      <td>33.751071</td>\n",
       "      <td>0.891398</td>\n",
       "      <td>256.670000</td>\n",
       "    </tr>\n",
       "    <tr>\n",
       "      <th>25%</th>\n",
       "      <td>156.500000</td>\n",
       "      <td>32.375680</td>\n",
       "      <td>11.334163</td>\n",
       "      <td>36.376725</td>\n",
       "      <td>2.906558</td>\n",
       "      <td>447.665160</td>\n",
       "    </tr>\n",
       "    <tr>\n",
       "      <th>50%</th>\n",
       "      <td>312.000000</td>\n",
       "      <td>33.044399</td>\n",
       "      <td>11.998823</td>\n",
       "      <td>37.113631</td>\n",
       "      <td>3.504771</td>\n",
       "      <td>498.806136</td>\n",
       "    </tr>\n",
       "    <tr>\n",
       "      <th>75%</th>\n",
       "      <td>467.500000</td>\n",
       "      <td>33.700947</td>\n",
       "      <td>12.647695</td>\n",
       "      <td>37.773880</td>\n",
       "      <td>4.140305</td>\n",
       "      <td>551.257208</td>\n",
       "    </tr>\n",
       "    <tr>\n",
       "      <th>max</th>\n",
       "      <td>623.000000</td>\n",
       "      <td>35.744415</td>\n",
       "      <td>15.138317</td>\n",
       "      <td>40.808388</td>\n",
       "      <td>6.553916</td>\n",
       "      <td>775.337626</td>\n",
       "    </tr>\n",
       "  </tbody>\n",
       "</table>\n",
       "</div>"
      ],
      "text/plain": [
       "       Customer ID  Avg Session length  Time on App  Time on Website  \\\n",
       "count   623.000000          623.000000   623.000000       623.000000   \n",
       "mean    312.000000           33.039429    12.001459        37.079018   \n",
       "std     179.988889            0.949071     0.996609         0.991753   \n",
       "min       1.000000           29.972300     9.273248        33.751071   \n",
       "25%     156.500000           32.375680    11.334163        36.376725   \n",
       "50%     312.000000           33.044399    11.998823        37.113631   \n",
       "75%     467.500000           33.700947    12.647695        37.773880   \n",
       "max     623.000000           35.744415    15.138317        40.808388   \n",
       "\n",
       "       Length of MemberShip  Yealy amount spent  \n",
       "count            623.000000          623.000000  \n",
       "mean               3.514850          499.600023  \n",
       "std                0.948063           80.032965  \n",
       "min                0.891398          256.670000  \n",
       "25%                2.906558          447.665160  \n",
       "50%                3.504771          498.806136  \n",
       "75%                4.140305          551.257208  \n",
       "max                6.553916          775.337626  "
      ]
     },
     "execution_count": 5,
     "metadata": {},
     "output_type": "execute_result"
    }
   ],
   "source": [
    "Ecommerce.describe()"
   ]
  },
  {
   "cell_type": "code",
   "execution_count": 6,
   "id": "e6e8dab7",
   "metadata": {},
   "outputs": [],
   "source": [
    "Ecommerce=Ecommerce.drop_duplicates()"
   ]
  },
  {
   "cell_type": "code",
   "execution_count": 7,
   "id": "d5e97b05",
   "metadata": {},
   "outputs": [
    {
     "data": {
      "text/html": [
       "<div>\n",
       "<style scoped>\n",
       "    .dataframe tbody tr th:only-of-type {\n",
       "        vertical-align: middle;\n",
       "    }\n",
       "\n",
       "    .dataframe tbody tr th {\n",
       "        vertical-align: top;\n",
       "    }\n",
       "\n",
       "    .dataframe thead th {\n",
       "        text-align: right;\n",
       "    }\n",
       "</style>\n",
       "<table border=\"1\" class=\"dataframe\">\n",
       "  <thead>\n",
       "    <tr style=\"text-align: right;\">\n",
       "      <th></th>\n",
       "      <th>Customer ID</th>\n",
       "      <th>Avg Session length</th>\n",
       "      <th>Time on App</th>\n",
       "      <th>Time on Website</th>\n",
       "      <th>Length of MemberShip</th>\n",
       "      <th>Yealy amount spent</th>\n",
       "    </tr>\n",
       "  </thead>\n",
       "  <tbody>\n",
       "    <tr>\n",
       "      <th>0</th>\n",
       "      <td>1</td>\n",
       "      <td>32.538350</td>\n",
       "      <td>12.028846</td>\n",
       "      <td>35.850540</td>\n",
       "      <td>3.648854</td>\n",
       "      <td>576.098273</td>\n",
       "    </tr>\n",
       "    <tr>\n",
       "      <th>1</th>\n",
       "      <td>2</td>\n",
       "      <td>34.206718</td>\n",
       "      <td>12.226851</td>\n",
       "      <td>37.246443</td>\n",
       "      <td>1.987536</td>\n",
       "      <td>460.784955</td>\n",
       "    </tr>\n",
       "    <tr>\n",
       "      <th>2</th>\n",
       "      <td>3</td>\n",
       "      <td>31.535240</td>\n",
       "      <td>11.814341</td>\n",
       "      <td>36.610697</td>\n",
       "      <td>3.351191</td>\n",
       "      <td>349.739791</td>\n",
       "    </tr>\n",
       "    <tr>\n",
       "      <th>3</th>\n",
       "      <td>4</td>\n",
       "      <td>32.199577</td>\n",
       "      <td>11.295163</td>\n",
       "      <td>37.425695</td>\n",
       "      <td>5.234337</td>\n",
       "      <td>547.709921</td>\n",
       "    </tr>\n",
       "    <tr>\n",
       "      <th>4</th>\n",
       "      <td>5</td>\n",
       "      <td>33.570137</td>\n",
       "      <td>13.500972</td>\n",
       "      <td>36.856165</td>\n",
       "      <td>3.938603</td>\n",
       "      <td>487.055641</td>\n",
       "    </tr>\n",
       "  </tbody>\n",
       "</table>\n",
       "</div>"
      ],
      "text/plain": [
       "   Customer ID  Avg Session length  Time on App  Time on Website  \\\n",
       "0            1           32.538350    12.028846        35.850540   \n",
       "1            2           34.206718    12.226851        37.246443   \n",
       "2            3           31.535240    11.814341        36.610697   \n",
       "3            4           32.199577    11.295163        37.425695   \n",
       "4            5           33.570137    13.500972        36.856165   \n",
       "\n",
       "   Length of MemberShip  Yealy amount spent  \n",
       "0              3.648854          576.098273  \n",
       "1              1.987536          460.784955  \n",
       "2              3.351191          349.739791  \n",
       "3              5.234337          547.709921  \n",
       "4              3.938603          487.055641  "
      ]
     },
     "execution_count": 7,
     "metadata": {},
     "output_type": "execute_result"
    }
   ],
   "source": [
    "Ecommerce.head()"
   ]
  },
  {
   "cell_type": "code",
   "execution_count": 8,
   "id": "e0f1fa84",
   "metadata": {},
   "outputs": [
    {
     "data": {
      "text/html": [
       "<div>\n",
       "<style scoped>\n",
       "    .dataframe tbody tr th:only-of-type {\n",
       "        vertical-align: middle;\n",
       "    }\n",
       "\n",
       "    .dataframe tbody tr th {\n",
       "        vertical-align: top;\n",
       "    }\n",
       "\n",
       "    .dataframe thead th {\n",
       "        text-align: right;\n",
       "    }\n",
       "</style>\n",
       "<table border=\"1\" class=\"dataframe\">\n",
       "  <thead>\n",
       "    <tr style=\"text-align: right;\">\n",
       "      <th></th>\n",
       "      <th>Customer ID</th>\n",
       "      <th>Avg Session length</th>\n",
       "      <th>Time on App</th>\n",
       "      <th>Time on Website</th>\n",
       "      <th>Length of MemberShip</th>\n",
       "      <th>Yealy amount spent</th>\n",
       "    </tr>\n",
       "  </thead>\n",
       "  <tbody>\n",
       "    <tr>\n",
       "      <th>Customer ID</th>\n",
       "      <td>1.000000</td>\n",
       "      <td>-0.036917</td>\n",
       "      <td>-0.001085</td>\n",
       "      <td>0.009227</td>\n",
       "      <td>0.052600</td>\n",
       "      <td>-0.075175</td>\n",
       "    </tr>\n",
       "    <tr>\n",
       "      <th>Avg Session length</th>\n",
       "      <td>-0.036917</td>\n",
       "      <td>1.000000</td>\n",
       "      <td>-0.001234</td>\n",
       "      <td>0.050231</td>\n",
       "      <td>-0.010919</td>\n",
       "      <td>-0.042764</td>\n",
       "    </tr>\n",
       "    <tr>\n",
       "      <th>Time on App</th>\n",
       "      <td>-0.001085</td>\n",
       "      <td>-0.001234</td>\n",
       "      <td>1.000000</td>\n",
       "      <td>0.040029</td>\n",
       "      <td>0.029839</td>\n",
       "      <td>-0.012348</td>\n",
       "    </tr>\n",
       "    <tr>\n",
       "      <th>Time on Website</th>\n",
       "      <td>0.009227</td>\n",
       "      <td>0.050231</td>\n",
       "      <td>0.040029</td>\n",
       "      <td>1.000000</td>\n",
       "      <td>0.036788</td>\n",
       "      <td>0.084305</td>\n",
       "    </tr>\n",
       "    <tr>\n",
       "      <th>Length of MemberShip</th>\n",
       "      <td>0.052600</td>\n",
       "      <td>-0.010919</td>\n",
       "      <td>0.029839</td>\n",
       "      <td>0.036788</td>\n",
       "      <td>1.000000</td>\n",
       "      <td>-0.030451</td>\n",
       "    </tr>\n",
       "    <tr>\n",
       "      <th>Yealy amount spent</th>\n",
       "      <td>-0.075175</td>\n",
       "      <td>-0.042764</td>\n",
       "      <td>-0.012348</td>\n",
       "      <td>0.084305</td>\n",
       "      <td>-0.030451</td>\n",
       "      <td>1.000000</td>\n",
       "    </tr>\n",
       "  </tbody>\n",
       "</table>\n",
       "</div>"
      ],
      "text/plain": [
       "                      Customer ID  Avg Session length  Time on App  \\\n",
       "Customer ID              1.000000           -0.036917    -0.001085   \n",
       "Avg Session length      -0.036917            1.000000    -0.001234   \n",
       "Time on App             -0.001085           -0.001234     1.000000   \n",
       "Time on Website          0.009227            0.050231     0.040029   \n",
       "Length of MemberShip     0.052600           -0.010919     0.029839   \n",
       "Yealy amount spent      -0.075175           -0.042764    -0.012348   \n",
       "\n",
       "                      Time on Website  Length of MemberShip  \\\n",
       "Customer ID                  0.009227              0.052600   \n",
       "Avg Session length           0.050231             -0.010919   \n",
       "Time on App                  0.040029              0.029839   \n",
       "Time on Website              1.000000              0.036788   \n",
       "Length of MemberShip         0.036788              1.000000   \n",
       "Yealy amount spent           0.084305             -0.030451   \n",
       "\n",
       "                      Yealy amount spent  \n",
       "Customer ID                    -0.075175  \n",
       "Avg Session length             -0.042764  \n",
       "Time on App                    -0.012348  \n",
       "Time on Website                 0.084305  \n",
       "Length of MemberShip           -0.030451  \n",
       "Yealy amount spent              1.000000  "
      ]
     },
     "execution_count": 8,
     "metadata": {},
     "output_type": "execute_result"
    }
   ],
   "source": [
    "Ecommerce.corr()"
   ]
  },
  {
   "cell_type": "code",
   "execution_count": 9,
   "id": "49497d1d",
   "metadata": {},
   "outputs": [
    {
     "data": {
      "text/plain": [
       "<AxesSubplot:xlabel='Time on Website', ylabel='Density'>"
      ]
     },
     "execution_count": 9,
     "metadata": {},
     "output_type": "execute_result"
    },
    {
     "data": {
      "image/png": "[encoded data removed]",
      "text/plain": [
       "<Figure size 432x288 with 1 Axes>"
      ]
     },
     "metadata": {
      "needs_background": "light"
     },
     "output_type": "display_data"
    }
   ],
   "source": [
    "sns.distplot(Ecommerce[\"Time on Website\"])"
   ]
  },
  {
   "cell_type": "code",
   "execution_count": 10,
   "id": "834b5b6d",
   "metadata": {},
   "outputs": [],
   "source": [
    "Ecommerce.drop('Customer ID', axis=1, inplace = True )"
   ]
  },
  {
   "cell_type": "code",
   "execution_count": 11,
   "id": "99a65deb",
   "metadata": {},
   "outputs": [
    {
     "data": {
      "text/html": [
       "<div>\n",
       "<style scoped>\n",
       "    .dataframe tbody tr th:only-of-type {\n",
       "        vertical-align: middle;\n",
       "    }\n",
       "\n",
       "    .dataframe tbody tr th {\n",
       "        vertical-align: top;\n",
       "    }\n",
       "\n",
       "    .dataframe thead th {\n",
       "        text-align: right;\n",
       "    }\n",
       "</style>\n",
       "<table border=\"1\" class=\"dataframe\">\n",
       "  <thead>\n",
       "    <tr style=\"text-align: right;\">\n",
       "      <th></th>\n",
       "      <th>Avg Session length</th>\n",
       "      <th>Time on App</th>\n",
       "      <th>Time on Website</th>\n",
       "      <th>Length of MemberShip</th>\n",
       "      <th>Yealy amount spent</th>\n",
       "    </tr>\n",
       "  </thead>\n",
       "  <tbody>\n",
       "    <tr>\n",
       "      <th>0</th>\n",
       "      <td>32.538350</td>\n",
       "      <td>12.028846</td>\n",
       "      <td>35.850540</td>\n",
       "      <td>3.648854</td>\n",
       "      <td>576.098273</td>\n",
       "    </tr>\n",
       "    <tr>\n",
       "      <th>1</th>\n",
       "      <td>34.206718</td>\n",
       "      <td>12.226851</td>\n",
       "      <td>37.246443</td>\n",
       "      <td>1.987536</td>\n",
       "      <td>460.784955</td>\n",
       "    </tr>\n",
       "    <tr>\n",
       "      <th>2</th>\n",
       "      <td>31.535240</td>\n",
       "      <td>11.814341</td>\n",
       "      <td>36.610697</td>\n",
       "      <td>3.351191</td>\n",
       "      <td>349.739791</td>\n",
       "    </tr>\n",
       "    <tr>\n",
       "      <th>3</th>\n",
       "      <td>32.199577</td>\n",
       "      <td>11.295163</td>\n",
       "      <td>37.425695</td>\n",
       "      <td>5.234337</td>\n",
       "      <td>547.709921</td>\n",
       "    </tr>\n",
       "    <tr>\n",
       "      <th>4</th>\n",
       "      <td>33.570137</td>\n",
       "      <td>13.500972</td>\n",
       "      <td>36.856165</td>\n",
       "      <td>3.938603</td>\n",
       "      <td>487.055641</td>\n",
       "    </tr>\n",
       "    <tr>\n",
       "      <th>...</th>\n",
       "      <td>...</td>\n",
       "      <td>...</td>\n",
       "      <td>...</td>\n",
       "      <td>...</td>\n",
       "      <td>...</td>\n",
       "    </tr>\n",
       "    <tr>\n",
       "      <th>618</th>\n",
       "      <td>31.941434</td>\n",
       "      <td>11.158640</td>\n",
       "      <td>36.846959</td>\n",
       "      <td>3.219605</td>\n",
       "      <td>559.546775</td>\n",
       "    </tr>\n",
       "    <tr>\n",
       "      <th>619</th>\n",
       "      <td>33.446133</td>\n",
       "      <td>12.374820</td>\n",
       "      <td>37.592235</td>\n",
       "      <td>4.917733</td>\n",
       "      <td>515.186966</td>\n",
       "    </tr>\n",
       "    <tr>\n",
       "      <th>620</th>\n",
       "      <td>32.967749</td>\n",
       "      <td>11.392061</td>\n",
       "      <td>36.916664</td>\n",
       "      <td>2.955718</td>\n",
       "      <td>601.715746</td>\n",
       "    </tr>\n",
       "    <tr>\n",
       "      <th>621</th>\n",
       "      <td>33.469949</td>\n",
       "      <td>11.930872</td>\n",
       "      <td>37.744155</td>\n",
       "      <td>4.577850</td>\n",
       "      <td>477.741395</td>\n",
       "    </tr>\n",
       "    <tr>\n",
       "      <th>622</th>\n",
       "      <td>33.443393</td>\n",
       "      <td>12.978933</td>\n",
       "      <td>37.311979</td>\n",
       "      <td>3.575459</td>\n",
       "      <td>390.149419</td>\n",
       "    </tr>\n",
       "  </tbody>\n",
       "</table>\n",
       "<p>623 rows × 5 columns</p>\n",
       "</div>"
      ],
      "text/plain": [
       "     Avg Session length  Time on App  Time on Website  Length of MemberShip  \\\n",
       "0             32.538350    12.028846        35.850540              3.648854   \n",
       "1             34.206718    12.226851        37.246443              1.987536   \n",
       "2             31.535240    11.814341        36.610697              3.351191   \n",
       "3             32.199577    11.295163        37.425695              5.234337   \n",
       "4             33.570137    13.500972        36.856165              3.938603   \n",
       "..                  ...          ...              ...                   ...   \n",
       "618           31.941434    11.158640        36.846959              3.219605   \n",
       "619           33.446133    12.374820        37.592235              4.917733   \n",
       "620           32.967749    11.392061        36.916664              2.955718   \n",
       "621           33.469949    11.930872        37.744155              4.577850   \n",
       "622           33.443393    12.978933        37.311979              3.575459   \n",
       "\n",
       "     Yealy amount spent  \n",
       "0            576.098273  \n",
       "1            460.784955  \n",
       "2            349.739791  \n",
       "3            547.709921  \n",
       "4            487.055641  \n",
       "..                  ...  \n",
       "618          559.546775  \n",
       "619          515.186966  \n",
       "620          601.715746  \n",
       "621          477.741395  \n",
       "622          390.149419  \n",
       "\n",
       "[623 rows x 5 columns]"
      ]
     },
     "execution_count": 11,
     "metadata": {},
     "output_type": "execute_result"
    }
   ],
   "source": [
    "Ecommerce"
   ]
  },
  {
   "cell_type": "code",
   "execution_count": 13,
   "id": "477e533f",
   "metadata": {},
   "outputs": [
    {
     "data": {
      "text/plain": [
       "<AxesSubplot:xlabel='Length of MemberShip'>"
      ]
     },
     "execution_count": 13,
     "metadata": {},
     "output_type": "execute_result"
    },
    {
     "data": {
      "image/png": "[encoded data removed]",
      "text/plain": [
       "<Figure size 432x288 with 1 Axes>"
      ]
     },
     "metadata": {
      "needs_background": "light"
     },
     "output_type": "display_data"
    }
   ],
   "source": [
    "sns.boxplot(Ecommerce[\"Length of MemberShip\"])"
   ]
  },
  {
   "cell_type": "code",
   "execution_count": 14,
   "id": "0a3a2bf4",
   "metadata": {},
   "outputs": [
    {
     "data": {
      "text/plain": [
       "<AxesSubplot:xlabel='Time on Website'>"
      ]
     },
     "execution_count": 14,
     "metadata": {},
     "output_type": "execute_result"
    },
    {
     "data": {
      "image/png": "[encoded data removed]",
      "text/plain": [
       "<Figure size 432x288 with 1 Axes>"
      ]
     },
     "metadata": {
      "needs_background": "light"
     },
     "output_type": "display_data"
    }
   ],
   "source": [
    "sns.boxplot(Ecommerce[\"Time on Website\"])"
   ]
  },
  {
   "cell_type": "code",
   "execution_count": 15,
   "id": "d162b136",
   "metadata": {},
   "outputs": [
    {
     "data": {
      "text/plain": [
       "<AxesSubplot:xlabel='Time on Website'>"
      ]
     },
     "execution_count": 15,
     "metadata": {},
     "output_type": "execute_result"
    },
    {
     "data": {
      "image/png": "[encoded data removed]",
      "text/plain": [
       "<Figure size 432x288 with 1 Axes>"
      ]
     },
     "metadata": {
      "needs_background": "light"
     },
     "output_type": "display_data"
    }
   ],
   "source": [
    "sns.boxplot(Ecommerce[\"Time on Website\"])"
   ]
  },
  {
   "cell_type": "code",
   "execution_count": 16,
   "id": "3ed29b4d",
   "metadata": {},
   "outputs": [
    {
     "data": {
      "text/plain": [
       "<AxesSubplot:xlabel='Time on App'>"
      ]
     },
     "execution_count": 16,
     "metadata": {},
     "output_type": "execute_result"
    },
    {
     "data": {
      "image/png": "[encoded data removed]",
      "text/plain": [
       "<Figure size 432x288 with 1 Axes>"
      ]
     },
     "metadata": {
      "needs_background": "light"
     },
     "output_type": "display_data"
    }
   ],
   "source": [
    "sns.boxplot(Ecommerce[\"Time on App\"])"
   ]
  },
  {
   "cell_type": "code",
   "execution_count": 17,
   "id": "b1de123e",
   "metadata": {},
   "outputs": [
    {
     "data": {
      "text/html": [
       "<div>\n",
       "<style scoped>\n",
       "    .dataframe tbody tr th:only-of-type {\n",
       "        vertical-align: middle;\n",
       "    }\n",
       "\n",
       "    .dataframe tbody tr th {\n",
       "        vertical-align: top;\n",
       "    }\n",
       "\n",
       "    .dataframe thead th {\n",
       "        text-align: right;\n",
       "    }\n",
       "</style>\n",
       "<table border=\"1\" class=\"dataframe\">\n",
       "  <thead>\n",
       "    <tr style=\"text-align: right;\">\n",
       "      <th></th>\n",
       "      <th>Avg Session length</th>\n",
       "      <th>Time on App</th>\n",
       "      <th>Time on Website</th>\n",
       "      <th>Length of MemberShip</th>\n",
       "      <th>Yealy amount spent</th>\n",
       "    </tr>\n",
       "  </thead>\n",
       "  <tbody>\n",
       "    <tr>\n",
       "      <th>0</th>\n",
       "      <td>32.538350</td>\n",
       "      <td>12.028846</td>\n",
       "      <td>35.850540</td>\n",
       "      <td>3.648854</td>\n",
       "      <td>576.098273</td>\n",
       "    </tr>\n",
       "    <tr>\n",
       "      <th>1</th>\n",
       "      <td>34.206718</td>\n",
       "      <td>12.226851</td>\n",
       "      <td>37.246443</td>\n",
       "      <td>1.987536</td>\n",
       "      <td>460.784955</td>\n",
       "    </tr>\n",
       "  </tbody>\n",
       "</table>\n",
       "</div>"
      ],
      "text/plain": [
       "   Avg Session length  Time on App  Time on Website  Length of MemberShip  \\\n",
       "0           32.538350    12.028846        35.850540              3.648854   \n",
       "1           34.206718    12.226851        37.246443              1.987536   \n",
       "\n",
       "   Yealy amount spent  \n",
       "0          576.098273  \n",
       "1          460.784955  "
      ]
     },
     "execution_count": 17,
     "metadata": {},
     "output_type": "execute_result"
    }
   ],
   "source": [
    "Ecommerce.head(2)"
   ]
  },
  {
   "cell_type": "code",
   "execution_count": 18,
   "id": "7229cd2e",
   "metadata": {},
   "outputs": [
    {
     "data": {
      "text/plain": [
       "<AxesSubplot:xlabel='Avg Session length'>"
      ]
     },
     "execution_count": 18,
     "metadata": {},
     "output_type": "execute_result"
    },
    {
     "data": {
      "image/png": "[encoded data removed]",
      "text/plain": [
       "<Figure size 432x288 with 1 Axes>"
      ]
     },
     "metadata": {
      "needs_background": "light"
     },
     "output_type": "display_data"
    }
   ],
   "source": [
    "sns.boxplot(Ecommerce[\"Avg Session length\"])"
   ]
  },
  {
   "cell_type": "code",
   "execution_count": 19,
   "id": "43d22901",
   "metadata": {},
   "outputs": [
    {
     "data": {
      "text/plain": [
       "Index(['Avg Session length', 'Time on App', 'Time on Website',\n",
       "       'Length of MemberShip', 'Yealy amount spent'],\n",
       "      dtype='object')"
      ]
     },
     "execution_count": 19,
     "metadata": {},
     "output_type": "execute_result"
    }
   ],
   "source": [
    "Ecommerce.columns"
   ]
  },
  {
   "cell_type": "code",
   "execution_count": 20,
   "id": "85f239e0",
   "metadata": {},
   "outputs": [],
   "source": [
    "variables = Ecommerce[['Length of MemberShip','Time on Website','Time on App','Avg Session length']]"
   ]
  },
  {
   "cell_type": "code",
   "execution_count": 21,
   "id": "24b6c7ad",
   "metadata": {},
   "outputs": [
    {
     "data": {
      "text/html": [
       "<div>\n",
       "<style scoped>\n",
       "    .dataframe tbody tr th:only-of-type {\n",
       "        vertical-align: middle;\n",
       "    }\n",
       "\n",
       "    .dataframe tbody tr th {\n",
       "        vertical-align: top;\n",
       "    }\n",
       "\n",
       "    .dataframe thead th {\n",
       "        text-align: right;\n",
       "    }\n",
       "</style>\n",
       "<table border=\"1\" class=\"dataframe\">\n",
       "  <thead>\n",
       "    <tr style=\"text-align: right;\">\n",
       "      <th></th>\n",
       "      <th>Length of MemberShip</th>\n",
       "      <th>Time on Website</th>\n",
       "      <th>Time on App</th>\n",
       "      <th>Avg Session length</th>\n",
       "    </tr>\n",
       "  </thead>\n",
       "  <tbody>\n",
       "    <tr>\n",
       "      <th>0</th>\n",
       "      <td>0.141459</td>\n",
       "      <td>1.239690</td>\n",
       "      <td>0.027502</td>\n",
       "      <td>0.528392</td>\n",
       "    </tr>\n",
       "    <tr>\n",
       "      <th>1</th>\n",
       "      <td>1.612278</td>\n",
       "      <td>0.168952</td>\n",
       "      <td>0.226341</td>\n",
       "      <td>1.230918</td>\n",
       "    </tr>\n",
       "    <tr>\n",
       "      <th>2</th>\n",
       "      <td>0.172763</td>\n",
       "      <td>0.472596</td>\n",
       "      <td>0.187905</td>\n",
       "      <td>1.586181</td>\n",
       "    </tr>\n",
       "    <tr>\n",
       "      <th>3</th>\n",
       "      <td>1.815142</td>\n",
       "      <td>0.349840</td>\n",
       "      <td>0.709268</td>\n",
       "      <td>0.885631</td>\n",
       "    </tr>\n",
       "    <tr>\n",
       "      <th>4</th>\n",
       "      <td>0.447326</td>\n",
       "      <td>0.224887</td>\n",
       "      <td>1.505824</td>\n",
       "      <td>0.559637</td>\n",
       "    </tr>\n",
       "    <tr>\n",
       "      <th>...</th>\n",
       "      <td>...</td>\n",
       "      <td>...</td>\n",
       "      <td>...</td>\n",
       "      <td>...</td>\n",
       "    </tr>\n",
       "    <tr>\n",
       "      <th>618</th>\n",
       "      <td>0.311669</td>\n",
       "      <td>0.234177</td>\n",
       "      <td>0.846366</td>\n",
       "      <td>1.157846</td>\n",
       "    </tr>\n",
       "    <tr>\n",
       "      <th>619</th>\n",
       "      <td>1.480926</td>\n",
       "      <td>0.517900</td>\n",
       "      <td>0.374932</td>\n",
       "      <td>0.428873</td>\n",
       "    </tr>\n",
       "    <tr>\n",
       "      <th>620</th>\n",
       "      <td>0.590236</td>\n",
       "      <td>0.163836</td>\n",
       "      <td>0.611962</td>\n",
       "      <td>0.075586</td>\n",
       "    </tr>\n",
       "    <tr>\n",
       "      <th>621</th>\n",
       "      <td>1.122135</td>\n",
       "      <td>0.671207</td>\n",
       "      <td>0.070884</td>\n",
       "      <td>0.453988</td>\n",
       "    </tr>\n",
       "    <tr>\n",
       "      <th>622</th>\n",
       "      <td>0.063981</td>\n",
       "      <td>0.235086</td>\n",
       "      <td>0.981588</td>\n",
       "      <td>0.425984</td>\n",
       "    </tr>\n",
       "  </tbody>\n",
       "</table>\n",
       "<p>623 rows × 4 columns</p>\n",
       "</div>"
      ],
      "text/plain": [
       "     Length of MemberShip  Time on Website  Time on App  Avg Session length\n",
       "0                0.141459         1.239690     0.027502            0.528392\n",
       "1                1.612278         0.168952     0.226341            1.230918\n",
       "2                0.172763         0.472596     0.187905            1.586181\n",
       "3                1.815142         0.349840     0.709268            0.885631\n",
       "4                0.447326         0.224887     1.505824            0.559637\n",
       "..                    ...              ...          ...                 ...\n",
       "618              0.311669         0.234177     0.846366            1.157846\n",
       "619              1.480926         0.517900     0.374932            0.428873\n",
       "620              0.590236         0.163836     0.611962            0.075586\n",
       "621              1.122135         0.671207     0.070884            0.453988\n",
       "622              0.063981         0.235086     0.981588            0.425984\n",
       "\n",
       "[623 rows x 4 columns]"
      ]
     },
     "execution_count": 21,
     "metadata": {},
     "output_type": "execute_result"
    }
   ],
   "source": [
    "from scipy.stats import zscore\n",
    "\n",
    "z=np.abs(zscore(variables))\n",
    "\n",
    "z"
   ]
  },
  {
   "cell_type": "code",
   "execution_count": 22,
   "id": "7652e7c9",
   "metadata": {},
   "outputs": [
    {
     "data": {
      "text/html": [
       "<div>\n",
       "<style scoped>\n",
       "    .dataframe tbody tr th:only-of-type {\n",
       "        vertical-align: middle;\n",
       "    }\n",
       "\n",
       "    .dataframe tbody tr th {\n",
       "        vertical-align: top;\n",
       "    }\n",
       "\n",
       "    .dataframe thead th {\n",
       "        text-align: right;\n",
       "    }\n",
       "</style>\n",
       "<table border=\"1\" class=\"dataframe\">\n",
       "  <thead>\n",
       "    <tr style=\"text-align: right;\">\n",
       "      <th></th>\n",
       "      <th>Avg Session length</th>\n",
       "      <th>Time on App</th>\n",
       "      <th>Time on Website</th>\n",
       "      <th>Length of MemberShip</th>\n",
       "      <th>Yealy amount spent</th>\n",
       "    </tr>\n",
       "  </thead>\n",
       "  <tbody>\n",
       "    <tr>\n",
       "      <th>0</th>\n",
       "      <td>32.538350</td>\n",
       "      <td>12.028846</td>\n",
       "      <td>35.850540</td>\n",
       "      <td>3.648854</td>\n",
       "      <td>576.098273</td>\n",
       "    </tr>\n",
       "    <tr>\n",
       "      <th>1</th>\n",
       "      <td>34.206718</td>\n",
       "      <td>12.226851</td>\n",
       "      <td>37.246443</td>\n",
       "      <td>1.987536</td>\n",
       "      <td>460.784955</td>\n",
       "    </tr>\n",
       "    <tr>\n",
       "      <th>2</th>\n",
       "      <td>31.535240</td>\n",
       "      <td>11.814341</td>\n",
       "      <td>36.610697</td>\n",
       "      <td>3.351191</td>\n",
       "      <td>349.739791</td>\n",
       "    </tr>\n",
       "    <tr>\n",
       "      <th>3</th>\n",
       "      <td>32.199577</td>\n",
       "      <td>11.295163</td>\n",
       "      <td>37.425695</td>\n",
       "      <td>5.234337</td>\n",
       "      <td>547.709921</td>\n",
       "    </tr>\n",
       "    <tr>\n",
       "      <th>4</th>\n",
       "      <td>33.570137</td>\n",
       "      <td>13.500972</td>\n",
       "      <td>36.856165</td>\n",
       "      <td>3.938603</td>\n",
       "      <td>487.055641</td>\n",
       "    </tr>\n",
       "    <tr>\n",
       "      <th>...</th>\n",
       "      <td>...</td>\n",
       "      <td>...</td>\n",
       "      <td>...</td>\n",
       "      <td>...</td>\n",
       "      <td>...</td>\n",
       "    </tr>\n",
       "    <tr>\n",
       "      <th>618</th>\n",
       "      <td>31.941434</td>\n",
       "      <td>11.158640</td>\n",
       "      <td>36.846959</td>\n",
       "      <td>3.219605</td>\n",
       "      <td>559.546775</td>\n",
       "    </tr>\n",
       "    <tr>\n",
       "      <th>619</th>\n",
       "      <td>33.446133</td>\n",
       "      <td>12.374820</td>\n",
       "      <td>37.592235</td>\n",
       "      <td>4.917733</td>\n",
       "      <td>515.186966</td>\n",
       "    </tr>\n",
       "    <tr>\n",
       "      <th>620</th>\n",
       "      <td>32.967749</td>\n",
       "      <td>11.392061</td>\n",
       "      <td>36.916664</td>\n",
       "      <td>2.955718</td>\n",
       "      <td>601.715746</td>\n",
       "    </tr>\n",
       "    <tr>\n",
       "      <th>621</th>\n",
       "      <td>33.469949</td>\n",
       "      <td>11.930872</td>\n",
       "      <td>37.744155</td>\n",
       "      <td>4.577850</td>\n",
       "      <td>477.741395</td>\n",
       "    </tr>\n",
       "    <tr>\n",
       "      <th>622</th>\n",
       "      <td>33.443393</td>\n",
       "      <td>12.978933</td>\n",
       "      <td>37.311979</td>\n",
       "      <td>3.575459</td>\n",
       "      <td>390.149419</td>\n",
       "    </tr>\n",
       "  </tbody>\n",
       "</table>\n",
       "<p>615 rows × 5 columns</p>\n",
       "</div>"
      ],
      "text/plain": [
       "     Avg Session length  Time on App  Time on Website  Length of MemberShip  \\\n",
       "0             32.538350    12.028846        35.850540              3.648854   \n",
       "1             34.206718    12.226851        37.246443              1.987536   \n",
       "2             31.535240    11.814341        36.610697              3.351191   \n",
       "3             32.199577    11.295163        37.425695              5.234337   \n",
       "4             33.570137    13.500972        36.856165              3.938603   \n",
       "..                  ...          ...              ...                   ...   \n",
       "618           31.941434    11.158640        36.846959              3.219605   \n",
       "619           33.446133    12.374820        37.592235              4.917733   \n",
       "620           32.967749    11.392061        36.916664              2.955718   \n",
       "621           33.469949    11.930872        37.744155              4.577850   \n",
       "622           33.443393    12.978933        37.311979              3.575459   \n",
       "\n",
       "     Yealy amount spent  \n",
       "0            576.098273  \n",
       "1            460.784955  \n",
       "2            349.739791  \n",
       "3            547.709921  \n",
       "4            487.055641  \n",
       "..                  ...  \n",
       "618          559.546775  \n",
       "619          515.186966  \n",
       "620          601.715746  \n",
       "621          477.741395  \n",
       "622          390.149419  \n",
       "\n",
       "[615 rows x 5 columns]"
      ]
     },
     "execution_count": 22,
     "metadata": {},
     "output_type": "execute_result"
    }
   ],
   "source": [
    "new_df = Ecommerce[(z<3).all(axis=1)] \n",
    "new_df"
   ]
  },
  {
   "cell_type": "code",
   "execution_count": 23,
   "id": "256fb838",
   "metadata": {},
   "outputs": [
    {
     "name": "stdout",
     "output_type": "stream",
     "text": [
      "Shape of dataset before removing outliers: (623, 5)\n",
      "Shape of dataset after removing outliers: (615, 5)\n"
     ]
    }
   ],
   "source": [
    "print(\"Shape of dataset before removing outliers:\", Ecommerce.shape)\n",
    "print(\"Shape of dataset after removing outliers:\", new_df.shape)"
   ]
  },
  {
   "cell_type": "code",
   "execution_count": 24,
   "id": "20a37239",
   "metadata": {},
   "outputs": [
    {
     "data": {
      "text/plain": [
       "1.2841091492776886"
      ]
     },
     "execution_count": 24,
     "metadata": {},
     "output_type": "execute_result"
    }
   ],
   "source": [
    "data_loss = (623-615)/623*100\n",
    "data_loss"
   ]
  },
  {
   "cell_type": "code",
   "execution_count": 25,
   "id": "e4c548e7",
   "metadata": {},
   "outputs": [
    {
     "data": {
      "text/plain": [
       "Avg Session length      0.015155\n",
       "Time on App             0.125069\n",
       "Time on Website         0.003273\n",
       "Length of MemberShip    0.000608\n",
       "Yealy amount spent      0.218484\n",
       "dtype: float64"
      ]
     },
     "execution_count": 25,
     "metadata": {},
     "output_type": "execute_result"
    }
   ],
   "source": [
    "new_df.skew()"
   ]
  },
  {
   "cell_type": "code",
   "execution_count": 26,
   "id": "3133eaba",
   "metadata": {},
   "outputs": [],
   "source": [
    "x=Ecommerce.drop(columns='Yealy amount spent',axis=1)\n",
    "y=Ecommerce['Yealy amount spent']"
   ]
  },
  {
   "cell_type": "code",
   "execution_count": 27,
   "id": "534dcd13",
   "metadata": {},
   "outputs": [
    {
     "data": {
      "text/html": [
       "<div>\n",
       "<style scoped>\n",
       "    .dataframe tbody tr th:only-of-type {\n",
       "        vertical-align: middle;\n",
       "    }\n",
       "\n",
       "    .dataframe tbody tr th {\n",
       "        vertical-align: top;\n",
       "    }\n",
       "\n",
       "    .dataframe thead th {\n",
       "        text-align: right;\n",
       "    }\n",
       "</style>\n",
       "<table border=\"1\" class=\"dataframe\">\n",
       "  <thead>\n",
       "    <tr style=\"text-align: right;\">\n",
       "      <th></th>\n",
       "      <th>Avg Session length</th>\n",
       "      <th>Time on App</th>\n",
       "      <th>Time on Website</th>\n",
       "      <th>Length of MemberShip</th>\n",
       "    </tr>\n",
       "  </thead>\n",
       "  <tbody>\n",
       "    <tr>\n",
       "      <th>0</th>\n",
       "      <td>32.538350</td>\n",
       "      <td>12.028846</td>\n",
       "      <td>35.850540</td>\n",
       "      <td>3.648854</td>\n",
       "    </tr>\n",
       "    <tr>\n",
       "      <th>1</th>\n",
       "      <td>34.206718</td>\n",
       "      <td>12.226851</td>\n",
       "      <td>37.246443</td>\n",
       "      <td>1.987536</td>\n",
       "    </tr>\n",
       "    <tr>\n",
       "      <th>2</th>\n",
       "      <td>31.535240</td>\n",
       "      <td>11.814341</td>\n",
       "      <td>36.610697</td>\n",
       "      <td>3.351191</td>\n",
       "    </tr>\n",
       "    <tr>\n",
       "      <th>3</th>\n",
       "      <td>32.199577</td>\n",
       "      <td>11.295163</td>\n",
       "      <td>37.425695</td>\n",
       "      <td>5.234337</td>\n",
       "    </tr>\n",
       "    <tr>\n",
       "      <th>4</th>\n",
       "      <td>33.570137</td>\n",
       "      <td>13.500972</td>\n",
       "      <td>36.856165</td>\n",
       "      <td>3.938603</td>\n",
       "    </tr>\n",
       "    <tr>\n",
       "      <th>...</th>\n",
       "      <td>...</td>\n",
       "      <td>...</td>\n",
       "      <td>...</td>\n",
       "      <td>...</td>\n",
       "    </tr>\n",
       "    <tr>\n",
       "      <th>618</th>\n",
       "      <td>31.941434</td>\n",
       "      <td>11.158640</td>\n",
       "      <td>36.846959</td>\n",
       "      <td>3.219605</td>\n",
       "    </tr>\n",
       "    <tr>\n",
       "      <th>619</th>\n",
       "      <td>33.446133</td>\n",
       "      <td>12.374820</td>\n",
       "      <td>37.592235</td>\n",
       "      <td>4.917733</td>\n",
       "    </tr>\n",
       "    <tr>\n",
       "      <th>620</th>\n",
       "      <td>32.967749</td>\n",
       "      <td>11.392061</td>\n",
       "      <td>36.916664</td>\n",
       "      <td>2.955718</td>\n",
       "    </tr>\n",
       "    <tr>\n",
       "      <th>621</th>\n",
       "      <td>33.469949</td>\n",
       "      <td>11.930872</td>\n",
       "      <td>37.744155</td>\n",
       "      <td>4.577850</td>\n",
       "    </tr>\n",
       "    <tr>\n",
       "      <th>622</th>\n",
       "      <td>33.443393</td>\n",
       "      <td>12.978933</td>\n",
       "      <td>37.311979</td>\n",
       "      <td>3.575459</td>\n",
       "    </tr>\n",
       "  </tbody>\n",
       "</table>\n",
       "<p>623 rows × 4 columns</p>\n",
       "</div>"
      ],
      "text/plain": [
       "     Avg Session length  Time on App  Time on Website  Length of MemberShip\n",
       "0             32.538350    12.028846        35.850540              3.648854\n",
       "1             34.206718    12.226851        37.246443              1.987536\n",
       "2             31.535240    11.814341        36.610697              3.351191\n",
       "3             32.199577    11.295163        37.425695              5.234337\n",
       "4             33.570137    13.500972        36.856165              3.938603\n",
       "..                  ...          ...              ...                   ...\n",
       "618           31.941434    11.158640        36.846959              3.219605\n",
       "619           33.446133    12.374820        37.592235              4.917733\n",
       "620           32.967749    11.392061        36.916664              2.955718\n",
       "621           33.469949    11.930872        37.744155              4.577850\n",
       "622           33.443393    12.978933        37.311979              3.575459\n",
       "\n",
       "[623 rows x 4 columns]"
      ]
     },
     "execution_count": 27,
     "metadata": {},
     "output_type": "execute_result"
    }
   ],
   "source": [
    "x"
   ]
  },
  {
   "cell_type": "code",
   "execution_count": 28,
   "id": "5f031790",
   "metadata": {},
   "outputs": [
    {
     "data": {
      "text/plain": [
       "0      576.098273\n",
       "1      460.784955\n",
       "2      349.739791\n",
       "3      547.709921\n",
       "4      487.055641\n",
       "          ...    \n",
       "618    559.546775\n",
       "619    515.186966\n",
       "620    601.715746\n",
       "621    477.741395\n",
       "622    390.149419\n",
       "Name: Yealy amount spent, Length: 623, dtype: float64"
      ]
     },
     "execution_count": 28,
     "metadata": {},
     "output_type": "execute_result"
    }
   ],
   "source": [
    "y"
   ]
  },
  {
   "cell_type": "code",
   "execution_count": 29,
   "id": "9128d1da",
   "metadata": {},
   "outputs": [],
   "source": [
    "from sklearn.preprocessing import MinMaxScaler\n",
    "mms=MinMaxScaler()\n",
    "x = pd.DataFrame(mms.fit_transform(x), columns=x.columns)"
   ]
  },
  {
   "cell_type": "code",
   "execution_count": 29,
   "id": "c91254b1",
   "metadata": {},
   "outputs": [],
   "source": [
    "from sklearn.model_selection import train_test_split\n",
    "x_train, x_test, y_train, y_test=train_test_split(x,y, test_size=0.3, random_state=1)"
   ]
  },
  {
   "cell_type": "code",
   "execution_count": 30,
   "id": "45f70fb9",
   "metadata": {},
   "outputs": [
    {
     "data": {
      "text/plain": [
       "((623, 4), (623,))"
      ]
     },
     "execution_count": 30,
     "metadata": {},
     "output_type": "execute_result"
    }
   ],
   "source": [
    "x.shape, y.shape"
   ]
  },
  {
   "cell_type": "code",
   "execution_count": 31,
   "id": "a9b4c55a",
   "metadata": {},
   "outputs": [],
   "source": [
    "from sklearn.preprocessing import MinMaxScaler\n",
    "mms=MinMaxScaler()\n",
    "x = pd.DataFrame(mms.fit_transform(x), columns=x.columns)"
   ]
  },
  {
   "cell_type": "code",
   "execution_count": 32,
   "id": "dc34b5bb",
   "metadata": {},
   "outputs": [
    {
     "data": {
      "text/html": [
       "<div>\n",
       "<style scoped>\n",
       "    .dataframe tbody tr th:only-of-type {\n",
       "        vertical-align: middle;\n",
       "    }\n",
       "\n",
       "    .dataframe tbody tr th {\n",
       "        vertical-align: top;\n",
       "    }\n",
       "\n",
       "    .dataframe thead th {\n",
       "        text-align: right;\n",
       "    }\n",
       "</style>\n",
       "<table border=\"1\" class=\"dataframe\">\n",
       "  <thead>\n",
       "    <tr style=\"text-align: right;\">\n",
       "      <th></th>\n",
       "      <th>Avg Session length</th>\n",
       "      <th>Time on App</th>\n",
       "      <th>Time on Website</th>\n",
       "      <th>Length of MemberShip</th>\n",
       "      <th>Yealy amount spent</th>\n",
       "    </tr>\n",
       "  </thead>\n",
       "  <tbody>\n",
       "    <tr>\n",
       "      <th>0</th>\n",
       "      <td>32.538350</td>\n",
       "      <td>12.028846</td>\n",
       "      <td>35.850540</td>\n",
       "      <td>3.648854</td>\n",
       "      <td>576.098273</td>\n",
       "    </tr>\n",
       "    <tr>\n",
       "      <th>1</th>\n",
       "      <td>34.206718</td>\n",
       "      <td>12.226851</td>\n",
       "      <td>37.246443</td>\n",
       "      <td>1.987536</td>\n",
       "      <td>460.784955</td>\n",
       "    </tr>\n",
       "    <tr>\n",
       "      <th>2</th>\n",
       "      <td>31.535240</td>\n",
       "      <td>11.814341</td>\n",
       "      <td>36.610697</td>\n",
       "      <td>3.351191</td>\n",
       "      <td>349.739791</td>\n",
       "    </tr>\n",
       "    <tr>\n",
       "      <th>3</th>\n",
       "      <td>32.199577</td>\n",
       "      <td>11.295163</td>\n",
       "      <td>37.425695</td>\n",
       "      <td>5.234337</td>\n",
       "      <td>547.709921</td>\n",
       "    </tr>\n",
       "    <tr>\n",
       "      <th>4</th>\n",
       "      <td>33.570137</td>\n",
       "      <td>13.500972</td>\n",
       "      <td>36.856165</td>\n",
       "      <td>3.938603</td>\n",
       "      <td>487.055641</td>\n",
       "    </tr>\n",
       "  </tbody>\n",
       "</table>\n",
       "</div>"
      ],
      "text/plain": [
       "   Avg Session length  Time on App  Time on Website  Length of MemberShip  \\\n",
       "0           32.538350    12.028846        35.850540              3.648854   \n",
       "1           34.206718    12.226851        37.246443              1.987536   \n",
       "2           31.535240    11.814341        36.610697              3.351191   \n",
       "3           32.199577    11.295163        37.425695              5.234337   \n",
       "4           33.570137    13.500972        36.856165              3.938603   \n",
       "\n",
       "   Yealy amount spent  \n",
       "0          576.098273  \n",
       "1          460.784955  \n",
       "2          349.739791  \n",
       "3          547.709921  \n",
       "4          487.055641  "
      ]
     },
     "execution_count": 32,
     "metadata": {},
     "output_type": "execute_result"
    }
   ],
   "source": [
    "Ecommerce.head()"
   ]
  },
  {
   "cell_type": "code",
   "execution_count": 33,
   "id": "2121d73e",
   "metadata": {},
   "outputs": [
    {
     "data": {
      "text/plain": [
       "((623, 4), (623,))"
      ]
     },
     "execution_count": 33,
     "metadata": {},
     "output_type": "execute_result"
    }
   ],
   "source": [
    "x.shape, y.shape"
   ]
  },
  {
   "cell_type": "code",
   "execution_count": 34,
   "id": "b23eeec3",
   "metadata": {},
   "outputs": [
    {
     "data": {
      "text/plain": [
       "((436, 4), (436,), (187, 4), (187,))"
      ]
     },
     "execution_count": 34,
     "metadata": {},
     "output_type": "execute_result"
    }
   ],
   "source": [
    "x_train.shape,y_train.shape, x_test.shape,y_test.shape"
   ]
  },
  {
   "cell_type": "code",
   "execution_count": 35,
   "id": "90434c28",
   "metadata": {},
   "outputs": [],
   "source": [
    "from sklearn.linear_model import LinearRegression\n",
    "from sklearn.metrics import mean_absolute_error\n",
    "from sklearn.metrics import mean_squared_error\n",
    "from sklearn.metrics import mean_absolute_percentage_error\n",
    "from sklearn import metrics"
   ]
  },
  {
   "cell_type": "code",
   "execution_count": 36,
   "id": "d0115e53",
   "metadata": {},
   "outputs": [
    {
     "name": "stdout",
     "output_type": "stream",
     "text": [
      "MAPE: 0.1240516088658518\n",
      "MAE: 60.75678646766125\n",
      "MSE: 6035.633919361321\n",
      "RMSE: 77.68934237951382\n"
     ]
    }
   ],
   "source": [
    "# Checking R2 score for Decision Tree Regressor\n",
    "LR=LinearRegression()\n",
    "LR.fit(x_train,y_train)\n",
    "\n",
    "# prediction\n",
    "predLR=LR.predict(x_test)\n",
    "print('MAPE:',metrics.mean_absolute_percentage_error(y_test, predLR))\n",
    "print('MAE:',metrics.mean_absolute_error(y_test, predLR))\n",
    "print('MSE:',metrics.mean_squared_error(y_test, predLR))\n",
    "print(\"RMSE:\",np.sqrt(metrics.mean_squared_error(y_test, predLR)))"
   ]
  },
  {
   "cell_type": "code",
   "execution_count": 37,
   "id": "b000d926",
   "metadata": {},
   "outputs": [],
   "source": [
    "from sklearn.ensemble import RandomForestRegressor"
   ]
  },
  {
   "cell_type": "code",
   "execution_count": 38,
   "id": "5e4026f3",
   "metadata": {},
   "outputs": [],
   "source": [
    "model = RandomForestRegressor()\n",
    "model = model.fit(x_train,y_train)\n",
    "y_pred = model.predict(x_test)"
   ]
  },
  {
   "cell_type": "code",
   "execution_count": 39,
   "id": "d4de89a5",
   "metadata": {},
   "outputs": [
    {
     "name": "stdout",
     "output_type": "stream",
     "text": [
      "Feature: 0, Score: 0.23311605595990045\n",
      "Feature: 1, Score: 0.2514729068023401\n",
      "Feature: 2, Score: 0.25608560065516983\n",
      "Feature: 3, Score: 0.2593254365825896\n"
     ]
    },
    {
     "data": {
      "image/png": "[encoded data removed]",
      "text/plain": [
       "<Figure size 432x288 with 1 Axes>"
      ]
     },
     "metadata": {
      "needs_background": "light"
     },
     "output_type": "display_data"
    }
   ],
   "source": [
    "importance = model.feature_importances_\n",
    "importance=np.sort(importance)\n",
    "# summarize feature importance\n",
    "for i,v in enumerate(importance):\n",
    "    print('Feature: {}, Score: {}'.format(i,v))\n",
    "# plot feature importance\n",
    "plt.bar([x for x in range(len(importance))], importance)\n",
    "plt.show()"
   ]
  },
  {
   "cell_type": "code",
   "execution_count": 40,
   "id": "09dc4ca6",
   "metadata": {},
   "outputs": [
    {
     "name": "stdout",
     "output_type": "stream",
     "text": [
      "MAPE: 0.1240516088658518\n"
     ]
    }
   ],
   "source": [
    "print('MAPE:',metrics.mean_absolute_percentage_error(y_test, predLR))"
   ]
  },
  {
   "cell_type": "code",
   "execution_count": null,
   "id": "dfea7c64",
   "metadata": {},
   "outputs": [],
   "source": []
  }
 ],
 "metadata": {
  "kernelspec": {
   "display_name": "Python 3 (ipykernel)",
   "language": "python",
   "name": "python3"
  },
  "language_info": {
   "codemirror_mode": {
    "name": "ipython",
    "version": 3
   },
   "file_extension": ".py",
   "mimetype": "text/x-python",
   "name": "python",
   "nbconvert_exporter": "python",
   "pygments_lexer": "ipython3",
   "version": "3.9.7"
  }
 },
 "nbformat": 4,
 "nbformat_minor": 5
}
